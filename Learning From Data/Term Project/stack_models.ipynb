{
 "cells": [
  {
   "cell_type": "markdown",
   "id": "78bc242a-9d1e-45c8-af29-81888afa6b94",
   "metadata": {},
   "source": [
    "# BLG 454E - Learning From Data - Fall 2024-25\n",
    "## BYD Team\n",
    "\n",
    "| Student No |          Name         |         e-mail         |\n",
    "|:----------:|:---------------------:|:----------------------:|\n",
    "|  150200037 | Murat Biberoğlu       | biberoglu20@itu.edu.tr |\n",
    "|  150200060 | Ömer Yıldız           | yildizom20@itu.edu.tr  |\n",
    "|  150210079 | Süleyman Ceyhun Demir |  demirsu21@itu.edu.tr  |\n"
   ]
  },
  {
   "cell_type": "markdown",
   "id": "adb854be-613f-4078-9c2a-9f2e4b9a847f",
   "metadata": {},
   "source": [
    "## Import Libraries"
   ]
  },
  {
   "cell_type": "code",
   "execution_count": 35,
   "id": "b65d94a8-89cd-45a7-8101-e6ea9768dc7d",
   "metadata": {},
   "outputs": [],
   "source": [
    "import numpy as np\n",
    "import pandas as pd\n",
    "from sklearn.discriminant_analysis import LinearDiscriminantAnalysis\n",
    "from sklearn.ensemble import RandomForestClassifier, StackingClassifier\n",
    "from sklearn.kernel_approximation import Nystroem\n",
    "from sklearn.linear_model import LogisticRegression, SGDClassifier\n",
    "from sklearn.metrics import accuracy_score, f1_score\n",
    "from sklearn.model_selection import train_test_split, StratifiedKFold\n",
    "from sklearn.neighbors import KNeighborsClassifier\n",
    "from sklearn.preprocessing import StandardScaler\n",
    "from sklearn.svm import LinearSVC"
   ]
  },
  {
   "cell_type": "markdown",
   "id": "2a441429-81f4-44f3-a5fd-eec62926588e",
   "metadata": {},
   "source": [
    "## Read Data"
   ]
  },
  {
   "cell_type": "code",
   "execution_count": 2,
   "id": "f0d064ca-5c4f-4875-b56e-8d68ceb5217d",
   "metadata": {},
   "outputs": [
    {
     "name": "stdout",
     "output_type": "stream",
     "text": [
      "[TRAIN] ResNet: (40000, 512)\n",
      "[TRAIN] CLIP  : (40000, 512)\n",
      "[TRAIN] DINO  : (40000, 768)\n",
      "[TRAIN] ViT   : (40000, 768)\n",
      "--------------------------------\n",
      "[TEST ] ResNet: (20000, 512)\n",
      "[TEST ] CLIP  : (20000, 512)\n",
      "[TEST ] DINO  : (20000, 768)\n",
      "[TEST ] ViT   : (20000, 768)\n",
      "--------------------------------\n",
      "[TRAIN] Labels: (40000,)\n"
     ]
    }
   ],
   "source": [
    "# Features\n",
    "train_features = np.load('train_feats.npy', allow_pickle=True)\n",
    "validation_features = np.load('valtest_feats.npy', allow_pickle=True)\n",
    "\n",
    "# Extract Train Features\n",
    "train_data_dict = train_features.item()\n",
    "resnet_features = train_data_dict[\"resnet_feature\"]\n",
    "clip_features = train_data_dict[\"clip_feature\"]\n",
    "dino_features = train_data_dict[\"dino_feature\"]\n",
    "vit_features = train_data_dict[\"vit_feature\"]\n",
    "del train_features\n",
    "\n",
    "# Extract Test Features\n",
    "data_dict = validation_features.item()\n",
    "resnet_validation_features = data_dict[\"resnet_feature\"]\n",
    "clip_validation_features = data_dict[\"clip_feature\"]\n",
    "dino_validation_features = data_dict[\"dino_feature\"]\n",
    "vit_validation_features = data_dict[\"vit_feature\"]\n",
    "del validation_features, data_dict\n",
    "\n",
    "# Labels\n",
    "labels_df = pd.read_csv('train_labels.csv')\n",
    "labels_df = labels_df.rename(columns={\"ID\": \"idx\"})\n",
    "labels_merged = pd.merge(pd.DataFrame(train_data_dict['idx'], columns=['idx']), labels_df, on='idx', how='left')\n",
    "labels = labels_merged['label'].values\n",
    "del labels_df, labels_merged, train_data_dict\n",
    "\n",
    "# Validate\n",
    "print(\"[TRAIN] ResNet:\", resnet_features.shape)\n",
    "print(\"[TRAIN] CLIP  :\", clip_features.shape)\n",
    "print(\"[TRAIN] DINO  :\", dino_features.shape)\n",
    "print(\"[TRAIN] ViT   :\", vit_features.shape)\n",
    "print(\"-\"*32)\n",
    "print(\"[TEST ] ResNet:\", resnet_validation_features.shape)\n",
    "print(\"[TEST ] CLIP  :\", clip_validation_features.shape)\n",
    "print(\"[TEST ] DINO  :\", dino_validation_features.shape)\n",
    "print(\"[TEST ] ViT   :\", vit_validation_features.shape)\n",
    "print(\"-\"*32)\n",
    "print(\"[TRAIN] Labels:\", labels.shape)"
   ]
  },
  {
   "cell_type": "markdown",
   "id": "a7db69d4-fcd3-4bce-b821-786871a4ec9e",
   "metadata": {},
   "source": [
    "## Standardization"
   ]
  },
  {
   "cell_type": "code",
   "execution_count": 3,
   "id": "fe24cc0b-1601-4aca-be65-441459ca02dc",
   "metadata": {},
   "outputs": [],
   "source": [
    "scaler = StandardScaler()\n",
    "\n",
    "resnet_features = scaler.fit_transform(resnet_features)\n",
    "clip_features = scaler.fit_transform(clip_features)\n",
    "dino_features = scaler.fit_transform(dino_features)\n",
    "vit_features = scaler.fit_transform(vit_features)\n",
    "resnet_validation_features = scaler.fit_transform(resnet_validation_features)\n",
    "clip_validation_features = scaler.fit_transform(clip_validation_features)\n",
    "dino_validation_features = scaler.fit_transform(dino_validation_features)\n",
    "vit_validation_features = scaler.fit_transform(vit_validation_features)\n",
    "\n",
    "del scaler"
   ]
  },
  {
   "cell_type": "markdown",
   "id": "6b118dd2-1a15-4ae1-858c-a0d7d319f16d",
   "metadata": {},
   "source": [
    "## LDA"
   ]
  },
  {
   "cell_type": "code",
   "execution_count": 4,
   "id": "a1ea5359-9371-42ee-ad49-e0103e668e77",
   "metadata": {},
   "outputs": [],
   "source": [
    "def perform_lda(features, labels, n_components=None):\n",
    "    lda = LinearDiscriminantAnalysis(n_components=n_components)\n",
    "    reduced_features = lda.fit_transform(features, labels)\n",
    "    return reduced_features, lda"
   ]
  },
  {
   "cell_type": "code",
   "execution_count": 5,
   "id": "69028c5f-9d45-4c9f-bdf7-58329fe7c8e3",
   "metadata": {},
   "outputs": [],
   "source": [
    "n_components = 9\n",
    "resnet_lda_features, lda_resnet = perform_lda(resnet_features, labels, n_components)\n",
    "clip_lda_features, lda_clip = perform_lda(clip_features, labels, n_components)  \n",
    "dino_lda_features, lda_dino = perform_lda(dino_features, labels, n_components)\n",
    "vit_lda_features, lda_vit = perform_lda(vit_features, labels, n_components)"
   ]
  },
  {
   "cell_type": "markdown",
   "id": "f3bb7a26-d922-4709-8d4b-be521a6f48d6",
   "metadata": {},
   "source": [
    "## Nystroem"
   ]
  },
  {
   "cell_type": "code",
   "execution_count": 6,
   "id": "6f50f817-1e16-4e9e-bb16-9b243e21111f",
   "metadata": {},
   "outputs": [],
   "source": [
    "def perform_nystroem(features, n_components=250):\n",
    "    nystroem = Nystroem(kernel='rbf', n_components=n_components, random_state=42)\n",
    "    reduced_features = nystroem.fit_transform(features)\n",
    "    return reduced_features, nystroem"
   ]
  },
  {
   "cell_type": "code",
   "execution_count": 7,
   "id": "51c9c799-f25b-4ed7-9534-4c206e12a559",
   "metadata": {},
   "outputs": [],
   "source": [
    "n_components = 27\n",
    "resnet_nystroem_features, nystroem_resnet = perform_nystroem(resnet_features, n_components)\n",
    "clip_nystroem_features, nystroem_clip = perform_nystroem(clip_features, n_components)\n",
    "dino_nystroem_features, nystroem_dino = perform_nystroem(dino_features, n_components)\n",
    "vit_nystroem_features, nystroem_vit = perform_nystroem(vit_features, n_components)"
   ]
  },
  {
   "cell_type": "markdown",
   "id": "920c6c42-2137-4341-bc24-2cb5aef24a45",
   "metadata": {},
   "source": [
    "## Merge Extracted Features From Nystroem & LDA"
   ]
  },
  {
   "cell_type": "code",
   "execution_count": 8,
   "id": "0d2725b0-be2b-4525-a76a-99950278d6e7",
   "metadata": {},
   "outputs": [
    {
     "data": {
      "text/plain": [
       "(40000, 36)"
      ]
     },
     "execution_count": 8,
     "metadata": {},
     "output_type": "execute_result"
    }
   ],
   "source": [
    "lda_features_combined = np.hstack([resnet_lda_features, clip_lda_features, dino_lda_features, vit_lda_features])\n",
    "lda_features_combined.shape"
   ]
  },
  {
   "cell_type": "code",
   "execution_count": 9,
   "id": "a2f45e63-8db4-49a6-86f7-35bad2897eab",
   "metadata": {},
   "outputs": [
    {
     "name": "stdout",
     "output_type": "stream",
     "text": [
      "Shape of combined features: (40000, 108)\n"
     ]
    }
   ],
   "source": [
    "nystroem_features_combined = np.hstack([resnet_nystroem_features, clip_nystroem_features, dino_nystroem_features, vit_nystroem_features])\n",
    "nystroem_features_combined.shape}"
   ]
  },
  {
   "cell_type": "code",
   "execution_count": 10,
   "id": "9744427d-6103-4172-8136-39b880ebcd8a",
   "metadata": {},
   "outputs": [
    {
     "data": {
      "text/plain": [
       "(40000, 144)"
      ]
     },
     "execution_count": 10,
     "metadata": {},
     "output_type": "execute_result"
    }
   ],
   "source": [
    "combined_features = np.hstack([lda_features_combined, nystroem_features_combined])\n",
    "combined_features.shape"
   ]
  },
  {
   "cell_type": "markdown",
   "id": "749cd9ea-7678-4e22-8308-5834a561589f",
   "metadata": {},
   "source": [
    "## Training & Evaluating"
   ]
  },
  {
   "cell_type": "code",
   "execution_count": 20,
   "id": "9e18751e-eb16-49ad-a055-36f6b24c3a4f",
   "metadata": {},
   "outputs": [],
   "source": [
    "def train_and_evaluate(model_constructor, features, labels, **kwargs):\n",
    "    X_train, X_test, y_train, y_test = train_test_split(features, labels, test_size=0.2, random_state=42)\n",
    "\n",
    "    classifier = model_constructor(**kwargs)\n",
    "    classifier.fit(X_train, y_train)\n",
    "\n",
    "    model_name = model_constructor.__name__.ljust(24)[:24]\n",
    "    y_pred = classifier.predict(X_test)\n",
    "    accuracy = accuracy_score(y_test, y_pred)\n",
    "    f1 = f1_score(y_test, y_pred, average='macro')\n",
    "    print(f\"{model_name} Accuracy: {accuracy:.4f}\")\n",
    "    print(f\"{model_name} F1-Score: {f1:.4f}\")"
   ]
  },
  {
   "cell_type": "markdown",
   "id": "c34fb107-79d6-45e8-868b-98ede898581e",
   "metadata": {},
   "source": [
    "### Just RandomForestClassifier"
   ]
  },
  {
   "cell_type": "code",
   "execution_count": 21,
   "id": "b44bc6f8-fc5c-4685-9c7e-ebc47eb07523",
   "metadata": {},
   "outputs": [
    {
     "name": "stdout",
     "output_type": "stream",
     "text": [
      "RandomForestClassifier   Accuracy: 0.9880\n",
      "RandomForestClassifier   F1-Score: 0.9880\n"
     ]
    }
   ],
   "source": [
    "train_and_evaluate(RandomForestClassifier, combined_features, labels, n_estimators=300, max_depth=30, n_jobs=-1)"
   ]
  },
  {
   "cell_type": "markdown",
   "id": "eb1e95b8-a5f6-480e-9ee8-d7568317eaa8",
   "metadata": {},
   "source": [
    "### Just KNeighborsClassifier"
   ]
  },
  {
   "cell_type": "code",
   "execution_count": 22,
   "id": "79318976-e8ba-41e9-b01e-602a959591b9",
   "metadata": {},
   "outputs": [
    {
     "name": "stdout",
     "output_type": "stream",
     "text": [
      "KNeighborsClassifier     Accuracy: 0.9894\n",
      "KNeighborsClassifier     F1-Score: 0.9894\n"
     ]
    }
   ],
   "source": [
    "train_and_evaluate(KNeighborsClassifier, combined_features, labels, n_neighbors=19)"
   ]
  },
  {
   "cell_type": "markdown",
   "id": "90420316-bfac-4b5b-8ca5-30a682c0f3c1",
   "metadata": {},
   "source": [
    "### Just LinearSVC"
   ]
  },
  {
   "cell_type": "code",
   "execution_count": 23,
   "id": "60a6910f-f441-4eb1-b52e-7f2d77e12efa",
   "metadata": {},
   "outputs": [
    {
     "name": "stdout",
     "output_type": "stream",
     "text": [
      "LinearSVC                Accuracy: 0.9890\n",
      "LinearSVC                F1-Score: 0.9890\n"
     ]
    }
   ],
   "source": [
    "train_and_evaluate(LinearSVC, combined_features, labels)"
   ]
  },
  {
   "cell_type": "markdown",
   "id": "22d01d00-eda5-4a85-bffb-b88bf3ff5bf4",
   "metadata": {},
   "source": [
    "### Just SGDClassifier"
   ]
  },
  {
   "cell_type": "code",
   "execution_count": 24,
   "id": "bc67166d-7a6e-42b9-abdc-ec36fa1c32a7",
   "metadata": {},
   "outputs": [
    {
     "name": "stdout",
     "output_type": "stream",
     "text": [
      "SGDClassifier            Accuracy: 0.9880\n",
      "SGDClassifier            F1-Score: 0.9880\n"
     ]
    }
   ],
   "source": [
    "train_and_evaluate(SGDClassifier, combined_features, labels, max_iter=25_000, tol=1e-8, n_jobs=-1)"
   ]
  },
  {
   "cell_type": "markdown",
   "id": "6a386995-1132-4343-81d9-c84f9ab2652d",
   "metadata": {},
   "source": [
    "### Just LogisticRegression"
   ]
  },
  {
   "cell_type": "code",
   "execution_count": 25,
   "id": "d2e5a08d-f833-434f-aded-ba0cbc7163d9",
   "metadata": {},
   "outputs": [
    {
     "name": "stdout",
     "output_type": "stream",
     "text": [
      "LogisticRegression       Accuracy: 0.9879\n",
      "LogisticRegression       F1-Score: 0.9879\n"
     ]
    }
   ],
   "source": [
    "train_and_evaluate(LogisticRegression, combined_features, labels, max_iter=5_000)"
   ]
  },
  {
   "cell_type": "markdown",
   "id": "bda22268-50cc-46cd-95bb-573bbae4fc26",
   "metadata": {},
   "source": [
    "### StackingClassifier\n",
    "Stack **RandomForestClassifier**, **KNeighborsClassifier**, **LinearSVC** & **SGDClassifier**"
   ]
  },
  {
   "cell_type": "code",
   "execution_count": 30,
   "id": "106d1266-6f0b-4e8f-be0d-b00a03b3f56c",
   "metadata": {},
   "outputs": [],
   "source": [
    "def CustomStackingClassifier():\n",
    "    base_estimators = [\n",
    "        ('RF', RandomForestClassifier(n_estimators=300, max_depth=30, n_jobs=-1)),\n",
    "        ('KNN', KNeighborsClassifier(n_neighbors=19)),\n",
    "        ('LSVC', LinearSVC()),\n",
    "        ('SGD', SGDClassifier(max_iter=5_000, tol=1e-8, n_jobs=-1))\n",
    "    ]\n",
    "    meta_classifier = LogisticRegression(max_iter=25_000)\n",
    "    return StackingClassifier(estimators=base_estimators, final_estimator=meta_classifier)"
   ]
  },
  {
   "cell_type": "code",
   "execution_count": 29,
   "id": "c7fe38d0-b9bd-4704-9ee0-3983c09277f2",
   "metadata": {},
   "outputs": [
    {
     "name": "stdout",
     "output_type": "stream",
     "text": [
      "CustomStackingClassifier Accuracy: 0.9884\n",
      "CustomStackingClassifier F1-Score: 0.9884\n"
     ]
    }
   ],
   "source": [
    "train_and_evaluate(CustomStackingClassifier, combined_features, labels)"
   ]
  },
  {
   "cell_type": "markdown",
   "id": "ad4f47d1-8143-49c5-883f-b2d6dcd33cf7",
   "metadata": {},
   "source": [
    "### Train Final Model"
   ]
  },
  {
   "cell_type": "code",
   "execution_count": 31,
   "id": "0646e939-3cd8-4f3f-ad1c-62ff74f02338",
   "metadata": {},
   "outputs": [
    {
     "data": {
      "text/html": [
       "<style>#sk-container-id-1 {\n",
       "  /* Definition of color scheme common for light and dark mode */\n",
       "  --sklearn-color-text: #000;\n",
       "  --sklearn-color-text-muted: #666;\n",
       "  --sklearn-color-line: gray;\n",
       "  /* Definition of color scheme for unfitted estimators */\n",
       "  --sklearn-color-unfitted-level-0: #fff5e6;\n",
       "  --sklearn-color-unfitted-level-1: #f6e4d2;\n",
       "  --sklearn-color-unfitted-level-2: #ffe0b3;\n",
       "  --sklearn-color-unfitted-level-3: chocolate;\n",
       "  /* Definition of color scheme for fitted estimators */\n",
       "  --sklearn-color-fitted-level-0: #f0f8ff;\n",
       "  --sklearn-color-fitted-level-1: #d4ebff;\n",
       "  --sklearn-color-fitted-level-2: #b3dbfd;\n",
       "  --sklearn-color-fitted-level-3: cornflowerblue;\n",
       "\n",
       "  /* Specific color for light theme */\n",
       "  --sklearn-color-text-on-default-background: var(--sg-text-color, var(--theme-code-foreground, var(--jp-content-font-color1, black)));\n",
       "  --sklearn-color-background: var(--sg-background-color, var(--theme-background, var(--jp-layout-color0, white)));\n",
       "  --sklearn-color-border-box: var(--sg-text-color, var(--theme-code-foreground, var(--jp-content-font-color1, black)));\n",
       "  --sklearn-color-icon: #696969;\n",
       "\n",
       "  @media (prefers-color-scheme: dark) {\n",
       "    /* Redefinition of color scheme for dark theme */\n",
       "    --sklearn-color-text-on-default-background: var(--sg-text-color, var(--theme-code-foreground, var(--jp-content-font-color1, white)));\n",
       "    --sklearn-color-background: var(--sg-background-color, var(--theme-background, var(--jp-layout-color0, #111)));\n",
       "    --sklearn-color-border-box: var(--sg-text-color, var(--theme-code-foreground, var(--jp-content-font-color1, white)));\n",
       "    --sklearn-color-icon: #878787;\n",
       "  }\n",
       "}\n",
       "\n",
       "#sk-container-id-1 {\n",
       "  color: var(--sklearn-color-text);\n",
       "}\n",
       "\n",
       "#sk-container-id-1 pre {\n",
       "  padding: 0;\n",
       "}\n",
       "\n",
       "#sk-container-id-1 input.sk-hidden--visually {\n",
       "  border: 0;\n",
       "  clip: rect(1px 1px 1px 1px);\n",
       "  clip: rect(1px, 1px, 1px, 1px);\n",
       "  height: 1px;\n",
       "  margin: -1px;\n",
       "  overflow: hidden;\n",
       "  padding: 0;\n",
       "  position: absolute;\n",
       "  width: 1px;\n",
       "}\n",
       "\n",
       "#sk-container-id-1 div.sk-dashed-wrapped {\n",
       "  border: 1px dashed var(--sklearn-color-line);\n",
       "  margin: 0 0.4em 0.5em 0.4em;\n",
       "  box-sizing: border-box;\n",
       "  padding-bottom: 0.4em;\n",
       "  background-color: var(--sklearn-color-background);\n",
       "}\n",
       "\n",
       "#sk-container-id-1 div.sk-container {\n",
       "  /* jupyter's `normalize.less` sets `[hidden] { display: none; }`\n",
       "     but bootstrap.min.css set `[hidden] { display: none !important; }`\n",
       "     so we also need the `!important` here to be able to override the\n",
       "     default hidden behavior on the sphinx rendered scikit-learn.org.\n",
       "     See: https://github.com/scikit-learn/scikit-learn/issues/21755 */\n",
       "  display: inline-block !important;\n",
       "  position: relative;\n",
       "}\n",
       "\n",
       "#sk-container-id-1 div.sk-text-repr-fallback {\n",
       "  display: none;\n",
       "}\n",
       "\n",
       "div.sk-parallel-item,\n",
       "div.sk-serial,\n",
       "div.sk-item {\n",
       "  /* draw centered vertical line to link estimators */\n",
       "  background-image: linear-gradient(var(--sklearn-color-text-on-default-background), var(--sklearn-color-text-on-default-background));\n",
       "  background-size: 2px 100%;\n",
       "  background-repeat: no-repeat;\n",
       "  background-position: center center;\n",
       "}\n",
       "\n",
       "/* Parallel-specific style estimator block */\n",
       "\n",
       "#sk-container-id-1 div.sk-parallel-item::after {\n",
       "  content: \"\";\n",
       "  width: 100%;\n",
       "  border-bottom: 2px solid var(--sklearn-color-text-on-default-background);\n",
       "  flex-grow: 1;\n",
       "}\n",
       "\n",
       "#sk-container-id-1 div.sk-parallel {\n",
       "  display: flex;\n",
       "  align-items: stretch;\n",
       "  justify-content: center;\n",
       "  background-color: var(--sklearn-color-background);\n",
       "  position: relative;\n",
       "}\n",
       "\n",
       "#sk-container-id-1 div.sk-parallel-item {\n",
       "  display: flex;\n",
       "  flex-direction: column;\n",
       "}\n",
       "\n",
       "#sk-container-id-1 div.sk-parallel-item:first-child::after {\n",
       "  align-self: flex-end;\n",
       "  width: 50%;\n",
       "}\n",
       "\n",
       "#sk-container-id-1 div.sk-parallel-item:last-child::after {\n",
       "  align-self: flex-start;\n",
       "  width: 50%;\n",
       "}\n",
       "\n",
       "#sk-container-id-1 div.sk-parallel-item:only-child::after {\n",
       "  width: 0;\n",
       "}\n",
       "\n",
       "/* Serial-specific style estimator block */\n",
       "\n",
       "#sk-container-id-1 div.sk-serial {\n",
       "  display: flex;\n",
       "  flex-direction: column;\n",
       "  align-items: center;\n",
       "  background-color: var(--sklearn-color-background);\n",
       "  padding-right: 1em;\n",
       "  padding-left: 1em;\n",
       "}\n",
       "\n",
       "\n",
       "/* Toggleable style: style used for estimator/Pipeline/ColumnTransformer box that is\n",
       "clickable and can be expanded/collapsed.\n",
       "- Pipeline and ColumnTransformer use this feature and define the default style\n",
       "- Estimators will overwrite some part of the style using the `sk-estimator` class\n",
       "*/\n",
       "\n",
       "/* Pipeline and ColumnTransformer style (default) */\n",
       "\n",
       "#sk-container-id-1 div.sk-toggleable {\n",
       "  /* Default theme specific background. It is overwritten whether we have a\n",
       "  specific estimator or a Pipeline/ColumnTransformer */\n",
       "  background-color: var(--sklearn-color-background);\n",
       "}\n",
       "\n",
       "/* Toggleable label */\n",
       "#sk-container-id-1 label.sk-toggleable__label {\n",
       "  cursor: pointer;\n",
       "  display: flex;\n",
       "  width: 100%;\n",
       "  margin-bottom: 0;\n",
       "  padding: 0.5em;\n",
       "  box-sizing: border-box;\n",
       "  text-align: center;\n",
       "  align-items: start;\n",
       "  justify-content: space-between;\n",
       "  gap: 0.5em;\n",
       "}\n",
       "\n",
       "#sk-container-id-1 label.sk-toggleable__label .caption {\n",
       "  font-size: 0.6rem;\n",
       "  font-weight: lighter;\n",
       "  color: var(--sklearn-color-text-muted);\n",
       "}\n",
       "\n",
       "#sk-container-id-1 label.sk-toggleable__label-arrow:before {\n",
       "  /* Arrow on the left of the label */\n",
       "  content: \"▸\";\n",
       "  float: left;\n",
       "  margin-right: 0.25em;\n",
       "  color: var(--sklearn-color-icon);\n",
       "}\n",
       "\n",
       "#sk-container-id-1 label.sk-toggleable__label-arrow:hover:before {\n",
       "  color: var(--sklearn-color-text);\n",
       "}\n",
       "\n",
       "/* Toggleable content - dropdown */\n",
       "\n",
       "#sk-container-id-1 div.sk-toggleable__content {\n",
       "  max-height: 0;\n",
       "  max-width: 0;\n",
       "  overflow: hidden;\n",
       "  text-align: left;\n",
       "  /* unfitted */\n",
       "  background-color: var(--sklearn-color-unfitted-level-0);\n",
       "}\n",
       "\n",
       "#sk-container-id-1 div.sk-toggleable__content.fitted {\n",
       "  /* fitted */\n",
       "  background-color: var(--sklearn-color-fitted-level-0);\n",
       "}\n",
       "\n",
       "#sk-container-id-1 div.sk-toggleable__content pre {\n",
       "  margin: 0.2em;\n",
       "  border-radius: 0.25em;\n",
       "  color: var(--sklearn-color-text);\n",
       "  /* unfitted */\n",
       "  background-color: var(--sklearn-color-unfitted-level-0);\n",
       "}\n",
       "\n",
       "#sk-container-id-1 div.sk-toggleable__content.fitted pre {\n",
       "  /* unfitted */\n",
       "  background-color: var(--sklearn-color-fitted-level-0);\n",
       "}\n",
       "\n",
       "#sk-container-id-1 input.sk-toggleable__control:checked~div.sk-toggleable__content {\n",
       "  /* Expand drop-down */\n",
       "  max-height: 200px;\n",
       "  max-width: 100%;\n",
       "  overflow: auto;\n",
       "}\n",
       "\n",
       "#sk-container-id-1 input.sk-toggleable__control:checked~label.sk-toggleable__label-arrow:before {\n",
       "  content: \"▾\";\n",
       "}\n",
       "\n",
       "/* Pipeline/ColumnTransformer-specific style */\n",
       "\n",
       "#sk-container-id-1 div.sk-label input.sk-toggleable__control:checked~label.sk-toggleable__label {\n",
       "  color: var(--sklearn-color-text);\n",
       "  background-color: var(--sklearn-color-unfitted-level-2);\n",
       "}\n",
       "\n",
       "#sk-container-id-1 div.sk-label.fitted input.sk-toggleable__control:checked~label.sk-toggleable__label {\n",
       "  background-color: var(--sklearn-color-fitted-level-2);\n",
       "}\n",
       "\n",
       "/* Estimator-specific style */\n",
       "\n",
       "/* Colorize estimator box */\n",
       "#sk-container-id-1 div.sk-estimator input.sk-toggleable__control:checked~label.sk-toggleable__label {\n",
       "  /* unfitted */\n",
       "  background-color: var(--sklearn-color-unfitted-level-2);\n",
       "}\n",
       "\n",
       "#sk-container-id-1 div.sk-estimator.fitted input.sk-toggleable__control:checked~label.sk-toggleable__label {\n",
       "  /* fitted */\n",
       "  background-color: var(--sklearn-color-fitted-level-2);\n",
       "}\n",
       "\n",
       "#sk-container-id-1 div.sk-label label.sk-toggleable__label,\n",
       "#sk-container-id-1 div.sk-label label {\n",
       "  /* The background is the default theme color */\n",
       "  color: var(--sklearn-color-text-on-default-background);\n",
       "}\n",
       "\n",
       "/* On hover, darken the color of the background */\n",
       "#sk-container-id-1 div.sk-label:hover label.sk-toggleable__label {\n",
       "  color: var(--sklearn-color-text);\n",
       "  background-color: var(--sklearn-color-unfitted-level-2);\n",
       "}\n",
       "\n",
       "/* Label box, darken color on hover, fitted */\n",
       "#sk-container-id-1 div.sk-label.fitted:hover label.sk-toggleable__label.fitted {\n",
       "  color: var(--sklearn-color-text);\n",
       "  background-color: var(--sklearn-color-fitted-level-2);\n",
       "}\n",
       "\n",
       "/* Estimator label */\n",
       "\n",
       "#sk-container-id-1 div.sk-label label {\n",
       "  font-family: monospace;\n",
       "  font-weight: bold;\n",
       "  display: inline-block;\n",
       "  line-height: 1.2em;\n",
       "}\n",
       "\n",
       "#sk-container-id-1 div.sk-label-container {\n",
       "  text-align: center;\n",
       "}\n",
       "\n",
       "/* Estimator-specific */\n",
       "#sk-container-id-1 div.sk-estimator {\n",
       "  font-family: monospace;\n",
       "  border: 1px dotted var(--sklearn-color-border-box);\n",
       "  border-radius: 0.25em;\n",
       "  box-sizing: border-box;\n",
       "  margin-bottom: 0.5em;\n",
       "  /* unfitted */\n",
       "  background-color: var(--sklearn-color-unfitted-level-0);\n",
       "}\n",
       "\n",
       "#sk-container-id-1 div.sk-estimator.fitted {\n",
       "  /* fitted */\n",
       "  background-color: var(--sklearn-color-fitted-level-0);\n",
       "}\n",
       "\n",
       "/* on hover */\n",
       "#sk-container-id-1 div.sk-estimator:hover {\n",
       "  /* unfitted */\n",
       "  background-color: var(--sklearn-color-unfitted-level-2);\n",
       "}\n",
       "\n",
       "#sk-container-id-1 div.sk-estimator.fitted:hover {\n",
       "  /* fitted */\n",
       "  background-color: var(--sklearn-color-fitted-level-2);\n",
       "}\n",
       "\n",
       "/* Specification for estimator info (e.g. \"i\" and \"?\") */\n",
       "\n",
       "/* Common style for \"i\" and \"?\" */\n",
       "\n",
       ".sk-estimator-doc-link,\n",
       "a:link.sk-estimator-doc-link,\n",
       "a:visited.sk-estimator-doc-link {\n",
       "  float: right;\n",
       "  font-size: smaller;\n",
       "  line-height: 1em;\n",
       "  font-family: monospace;\n",
       "  background-color: var(--sklearn-color-background);\n",
       "  border-radius: 1em;\n",
       "  height: 1em;\n",
       "  width: 1em;\n",
       "  text-decoration: none !important;\n",
       "  margin-left: 0.5em;\n",
       "  text-align: center;\n",
       "  /* unfitted */\n",
       "  border: var(--sklearn-color-unfitted-level-1) 1pt solid;\n",
       "  color: var(--sklearn-color-unfitted-level-1);\n",
       "}\n",
       "\n",
       ".sk-estimator-doc-link.fitted,\n",
       "a:link.sk-estimator-doc-link.fitted,\n",
       "a:visited.sk-estimator-doc-link.fitted {\n",
       "  /* fitted */\n",
       "  border: var(--sklearn-color-fitted-level-1) 1pt solid;\n",
       "  color: var(--sklearn-color-fitted-level-1);\n",
       "}\n",
       "\n",
       "/* On hover */\n",
       "div.sk-estimator:hover .sk-estimator-doc-link:hover,\n",
       ".sk-estimator-doc-link:hover,\n",
       "div.sk-label-container:hover .sk-estimator-doc-link:hover,\n",
       ".sk-estimator-doc-link:hover {\n",
       "  /* unfitted */\n",
       "  background-color: var(--sklearn-color-unfitted-level-3);\n",
       "  color: var(--sklearn-color-background);\n",
       "  text-decoration: none;\n",
       "}\n",
       "\n",
       "div.sk-estimator.fitted:hover .sk-estimator-doc-link.fitted:hover,\n",
       ".sk-estimator-doc-link.fitted:hover,\n",
       "div.sk-label-container:hover .sk-estimator-doc-link.fitted:hover,\n",
       ".sk-estimator-doc-link.fitted:hover {\n",
       "  /* fitted */\n",
       "  background-color: var(--sklearn-color-fitted-level-3);\n",
       "  color: var(--sklearn-color-background);\n",
       "  text-decoration: none;\n",
       "}\n",
       "\n",
       "/* Span, style for the box shown on hovering the info icon */\n",
       ".sk-estimator-doc-link span {\n",
       "  display: none;\n",
       "  z-index: 9999;\n",
       "  position: relative;\n",
       "  font-weight: normal;\n",
       "  right: .2ex;\n",
       "  padding: .5ex;\n",
       "  margin: .5ex;\n",
       "  width: min-content;\n",
       "  min-width: 20ex;\n",
       "  max-width: 50ex;\n",
       "  color: var(--sklearn-color-text);\n",
       "  box-shadow: 2pt 2pt 4pt #999;\n",
       "  /* unfitted */\n",
       "  background: var(--sklearn-color-unfitted-level-0);\n",
       "  border: .5pt solid var(--sklearn-color-unfitted-level-3);\n",
       "}\n",
       "\n",
       ".sk-estimator-doc-link.fitted span {\n",
       "  /* fitted */\n",
       "  background: var(--sklearn-color-fitted-level-0);\n",
       "  border: var(--sklearn-color-fitted-level-3);\n",
       "}\n",
       "\n",
       ".sk-estimator-doc-link:hover span {\n",
       "  display: block;\n",
       "}\n",
       "\n",
       "/* \"?\"-specific style due to the `<a>` HTML tag */\n",
       "\n",
       "#sk-container-id-1 a.estimator_doc_link {\n",
       "  float: right;\n",
       "  font-size: 1rem;\n",
       "  line-height: 1em;\n",
       "  font-family: monospace;\n",
       "  background-color: var(--sklearn-color-background);\n",
       "  border-radius: 1rem;\n",
       "  height: 1rem;\n",
       "  width: 1rem;\n",
       "  text-decoration: none;\n",
       "  /* unfitted */\n",
       "  color: var(--sklearn-color-unfitted-level-1);\n",
       "  border: var(--sklearn-color-unfitted-level-1) 1pt solid;\n",
       "}\n",
       "\n",
       "#sk-container-id-1 a.estimator_doc_link.fitted {\n",
       "  /* fitted */\n",
       "  border: var(--sklearn-color-fitted-level-1) 1pt solid;\n",
       "  color: var(--sklearn-color-fitted-level-1);\n",
       "}\n",
       "\n",
       "/* On hover */\n",
       "#sk-container-id-1 a.estimator_doc_link:hover {\n",
       "  /* unfitted */\n",
       "  background-color: var(--sklearn-color-unfitted-level-3);\n",
       "  color: var(--sklearn-color-background);\n",
       "  text-decoration: none;\n",
       "}\n",
       "\n",
       "#sk-container-id-1 a.estimator_doc_link.fitted:hover {\n",
       "  /* fitted */\n",
       "  background-color: var(--sklearn-color-fitted-level-3);\n",
       "}\n",
       "</style><div id=\"sk-container-id-1\" class=\"sk-top-container\"><div class=\"sk-text-repr-fallback\"><pre>StackingClassifier(estimators=[(&#x27;RF&#x27;,\n",
       "                                RandomForestClassifier(max_depth=30,\n",
       "                                                       n_estimators=300,\n",
       "                                                       n_jobs=-1)),\n",
       "                               (&#x27;KNN&#x27;, KNeighborsClassifier(n_neighbors=19)),\n",
       "                               (&#x27;LSVC&#x27;, LinearSVC()),\n",
       "                               (&#x27;SGD&#x27;,\n",
       "                                SGDClassifier(max_iter=5000, n_jobs=-1,\n",
       "                                              tol=1e-08))],\n",
       "                   final_estimator=LogisticRegression(max_iter=25000))</pre><b>In a Jupyter environment, please rerun this cell to show the HTML representation or trust the notebook. <br />On GitHub, the HTML representation is unable to render, please try loading this page with nbviewer.org.</b></div><div class=\"sk-container\" hidden><div class=\"sk-item sk-dashed-wrapped\"><div class=\"sk-label-container\"><div class=\"sk-label fitted sk-toggleable\"><input class=\"sk-toggleable__control sk-hidden--visually\" id=\"sk-estimator-id-1\" type=\"checkbox\" ><label for=\"sk-estimator-id-1\" class=\"sk-toggleable__label fitted sk-toggleable__label-arrow\"><div><div>StackingClassifier</div></div><div><a class=\"sk-estimator-doc-link fitted\" rel=\"noreferrer\" target=\"_blank\" href=\"https://scikit-learn.org/1.6/modules/generated/sklearn.ensemble.StackingClassifier.html\">?<span>Documentation for StackingClassifier</span></a><span class=\"sk-estimator-doc-link fitted\">i<span>Fitted</span></span></div></label><div class=\"sk-toggleable__content fitted\"><pre>StackingClassifier(estimators=[(&#x27;RF&#x27;,\n",
       "                                RandomForestClassifier(max_depth=30,\n",
       "                                                       n_estimators=300,\n",
       "                                                       n_jobs=-1)),\n",
       "                               (&#x27;KNN&#x27;, KNeighborsClassifier(n_neighbors=19)),\n",
       "                               (&#x27;LSVC&#x27;, LinearSVC()),\n",
       "                               (&#x27;SGD&#x27;,\n",
       "                                SGDClassifier(max_iter=5000, n_jobs=-1,\n",
       "                                              tol=1e-08))],\n",
       "                   final_estimator=LogisticRegression(max_iter=25000))</pre></div> </div></div><div class=\"sk-serial\"><div class=\"sk-item\"><div class=\"sk-parallel\"><div class=\"sk-parallel-item\"><div class=\"sk-item\"><div class=\"sk-label-container\"><div class=\"sk-label fitted sk-toggleable\"><label>RF</label></div></div><div class=\"sk-serial\"><div class=\"sk-item\"><div class=\"sk-estimator fitted sk-toggleable\"><input class=\"sk-toggleable__control sk-hidden--visually\" id=\"sk-estimator-id-2\" type=\"checkbox\" ><label for=\"sk-estimator-id-2\" class=\"sk-toggleable__label fitted sk-toggleable__label-arrow\"><div><div>RandomForestClassifier</div></div><div><a class=\"sk-estimator-doc-link fitted\" rel=\"noreferrer\" target=\"_blank\" href=\"https://scikit-learn.org/1.6/modules/generated/sklearn.ensemble.RandomForestClassifier.html\">?<span>Documentation for RandomForestClassifier</span></a></div></label><div class=\"sk-toggleable__content fitted\"><pre>RandomForestClassifier(max_depth=30, n_estimators=300, n_jobs=-1)</pre></div> </div></div></div></div></div><div class=\"sk-parallel-item\"><div class=\"sk-item\"><div class=\"sk-label-container\"><div class=\"sk-label fitted sk-toggleable\"><label>KNN</label></div></div><div class=\"sk-serial\"><div class=\"sk-item\"><div class=\"sk-estimator fitted sk-toggleable\"><input class=\"sk-toggleable__control sk-hidden--visually\" id=\"sk-estimator-id-3\" type=\"checkbox\" ><label for=\"sk-estimator-id-3\" class=\"sk-toggleable__label fitted sk-toggleable__label-arrow\"><div><div>KNeighborsClassifier</div></div><div><a class=\"sk-estimator-doc-link fitted\" rel=\"noreferrer\" target=\"_blank\" href=\"https://scikit-learn.org/1.6/modules/generated/sklearn.neighbors.KNeighborsClassifier.html\">?<span>Documentation for KNeighborsClassifier</span></a></div></label><div class=\"sk-toggleable__content fitted\"><pre>KNeighborsClassifier(n_neighbors=19)</pre></div> </div></div></div></div></div><div class=\"sk-parallel-item\"><div class=\"sk-item\"><div class=\"sk-label-container\"><div class=\"sk-label fitted sk-toggleable\"><label>LSVC</label></div></div><div class=\"sk-serial\"><div class=\"sk-item\"><div class=\"sk-estimator fitted sk-toggleable\"><input class=\"sk-toggleable__control sk-hidden--visually\" id=\"sk-estimator-id-4\" type=\"checkbox\" ><label for=\"sk-estimator-id-4\" class=\"sk-toggleable__label fitted sk-toggleable__label-arrow\"><div><div>LinearSVC</div></div><div><a class=\"sk-estimator-doc-link fitted\" rel=\"noreferrer\" target=\"_blank\" href=\"https://scikit-learn.org/1.6/modules/generated/sklearn.svm.LinearSVC.html\">?<span>Documentation for LinearSVC</span></a></div></label><div class=\"sk-toggleable__content fitted\"><pre>LinearSVC()</pre></div> </div></div></div></div></div><div class=\"sk-parallel-item\"><div class=\"sk-item\"><div class=\"sk-label-container\"><div class=\"sk-label fitted sk-toggleable\"><label>SGD</label></div></div><div class=\"sk-serial\"><div class=\"sk-item\"><div class=\"sk-estimator fitted sk-toggleable\"><input class=\"sk-toggleable__control sk-hidden--visually\" id=\"sk-estimator-id-5\" type=\"checkbox\" ><label for=\"sk-estimator-id-5\" class=\"sk-toggleable__label fitted sk-toggleable__label-arrow\"><div><div>SGDClassifier</div></div><div><a class=\"sk-estimator-doc-link fitted\" rel=\"noreferrer\" target=\"_blank\" href=\"https://scikit-learn.org/1.6/modules/generated/sklearn.linear_model.SGDClassifier.html\">?<span>Documentation for SGDClassifier</span></a></div></label><div class=\"sk-toggleable__content fitted\"><pre>SGDClassifier(max_iter=5000, n_jobs=-1, tol=1e-08)</pre></div> </div></div></div></div></div></div></div><div class=\"sk-item\"><div class=\"sk-parallel\"><div class=\"sk-parallel-item\"><div class=\"sk-item\"><div class=\"sk-label-container\"><div class=\"sk-label fitted sk-toggleable\"><label>final_estimator</label></div></div><div class=\"sk-serial\"><div class=\"sk-item\"><div class=\"sk-estimator fitted sk-toggleable\"><input class=\"sk-toggleable__control sk-hidden--visually\" id=\"sk-estimator-id-6\" type=\"checkbox\" ><label for=\"sk-estimator-id-6\" class=\"sk-toggleable__label fitted sk-toggleable__label-arrow\"><div><div>LogisticRegression</div></div><div><a class=\"sk-estimator-doc-link fitted\" rel=\"noreferrer\" target=\"_blank\" href=\"https://scikit-learn.org/1.6/modules/generated/sklearn.linear_model.LogisticRegression.html\">?<span>Documentation for LogisticRegression</span></a></div></label><div class=\"sk-toggleable__content fitted\"><pre>LogisticRegression(max_iter=25000)</pre></div> </div></div></div></div></div></div></div></div></div></div></div>"
      ],
      "text/plain": [
       "StackingClassifier(estimators=[('RF',\n",
       "                                RandomForestClassifier(max_depth=30,\n",
       "                                                       n_estimators=300,\n",
       "                                                       n_jobs=-1)),\n",
       "                               ('KNN', KNeighborsClassifier(n_neighbors=19)),\n",
       "                               ('LSVC', LinearSVC()),\n",
       "                               ('SGD',\n",
       "                                SGDClassifier(max_iter=5000, n_jobs=-1,\n",
       "                                              tol=1e-08))],\n",
       "                   final_estimator=LogisticRegression(max_iter=25000))"
      ]
     },
     "execution_count": 31,
     "metadata": {},
     "output_type": "execute_result"
    }
   ],
   "source": [
    "classifier = CustomStackingClassifier()\n",
    "classifier.fit(combined_features, labels)"
   ]
  },
  {
   "cell_type": "markdown",
   "id": "9d395ae1-b044-4241-924e-dfeb556e0f72",
   "metadata": {},
   "source": [
    "## Apply Dimensionality Reduction (Nystroem & LDA) To Validation Data"
   ]
  },
  {
   "cell_type": "code",
   "execution_count": 33,
   "id": "4c714861-de08-4a10-8c9a-28c90451eb63",
   "metadata": {},
   "outputs": [
    {
     "data": {
      "text/plain": [
       "(20000, 144)"
      ]
     },
     "execution_count": 33,
     "metadata": {},
     "output_type": "execute_result"
    }
   ],
   "source": [
    "resnet_lda_validation_features = lda_resnet.transform(resnet_validation_features)\n",
    "clip_lda_validation_features = lda_clip.transform(clip_validation_features)\n",
    "dino_lda_validation_features = lda_dino.transform(dino_validation_features)\n",
    "vit_lda_validation_features = lda_vit.transform(vit_validation_features)\n",
    "\n",
    "resnet_nystroem_validation_features = nystroem_resnet.transform(resnet_validation_features)\n",
    "clip_nystroem_validation_features = nystroem_clip.transform(clip_validation_features)\n",
    "dino_nystroem_validation_features = nystroem_dino.transform(dino_validation_features)\n",
    "vit_nystroem_validation_features = nystroem_vit.transform(vit_validation_features)\n",
    "\n",
    "lda_validation_features_combined = np.hstack([resnet_lda_validation_features,\n",
    "                                              clip_lda_validation_features,\n",
    "                                              dino_lda_validation_features,\n",
    "                                              vit_lda_validation_features])\n",
    "nystroem_validation_features_combined = np.hstack([resnet_nystroem_validation_features,\n",
    "                                                   clip_nystroem_validation_features,\n",
    "                                                   dino_nystroem_validation_features,\n",
    "                                                   vit_nystroem_validation_features])\n",
    "\n",
    "combined_validation_features = np.hstack([lda_validation_features_combined, nystroem_validation_features_combined])\n",
    "combined_validation_features.shape"
   ]
  },
  {
   "cell_type": "markdown",
   "id": "c8c880b0-257f-4c76-ac72-600af61f550b",
   "metadata": {},
   "source": [
    "## Predict Validation Data & Save Predictions To `submission.csv`"
   ]
  },
  {
   "cell_type": "code",
   "execution_count": 34,
   "id": "1e21e894-fb44-40a0-94b2-2891e902d0a4",
   "metadata": {},
   "outputs": [
    {
     "name": "stdout",
     "output_type": "stream",
     "text": [
      "Prediction Shape: (20000,)\n",
      "Submission file saved.\n"
     ]
    }
   ],
   "source": [
    "predicted = classifier.predict(combined_validation_features)\n",
    "print(\"Prediction Shape:\", predicted.shape)\n",
    "submission = pd.DataFrame({\n",
    "    'ID': np.arange(len(predicted)),\n",
    "    'Predicted': predicted\n",
    "})\n",
    "submission.to_csv('submission.csv', index=False)\n",
    "print(\"Submission file saved.\")"
   ]
  },
  {
   "cell_type": "markdown",
   "id": "d055288c-9c74-4416-82f1-cc0a84e9616c",
   "metadata": {},
   "source": [
    "## 5-Fold Cross Validation"
   ]
  },
  {
   "cell_type": "code",
   "execution_count": 36,
   "id": "8d57f9c0-233e-4249-8078-c0aa2e330c7a",
   "metadata": {},
   "outputs": [],
   "source": [
    "import random as r\n",
    "r.seed(1)"
   ]
  },
  {
   "cell_type": "code",
   "execution_count": 44,
   "id": "7d5db71b-c1c9-4dc9-ac7f-cb24fd6eabb9",
   "metadata": {},
   "outputs": [],
   "source": [
    "def five_fold_cross_validation(model_constructor, X, y):\n",
    "    \"\"\"\n",
    "    Perform 5-fold cross-validation, calculate average macro F1 score, \n",
    "    and save predictions to predictions.csv.\n",
    "\n",
    "    Parameters:\n",
    "        model_constructor (callable): Constructor for the model (e.g., lambda: SomeModel(params)).\n",
    "        X (array-like): Feature matrix.\n",
    "        y (array-like): Target array.\n",
    "\n",
    "    Returns:\n",
    "        float: Average F1 score (macro).\n",
    "    \"\"\"\n",
    "    skf = StratifiedKFold(n_splits=5, shuffle=True)\n",
    "    \n",
    "    # Prepare arrays to store predictions in original order\n",
    "    predictions = np.zeros_like(y, dtype=np.int64)\n",
    "    \n",
    "    for train_index, test_index in skf.split(X, y):\n",
    "        X_train, X_test = X[train_index], X[test_index]\n",
    "        y_train, y_test = y[train_index], y[test_index]\n",
    "\n",
    "        # Initialize and train the model\n",
    "        model = model_constructor()\n",
    "        model.fit(X_train, y_train)\n",
    "\n",
    "        # Predict on the test set\n",
    "        y_pred = model.predict(X_test)\n",
    "        \n",
    "        # Save predictions in their original positions\n",
    "        predictions[test_index] = y_pred\n",
    "\n",
    "    # Save predictions to a CSV file\n",
    "    predictions_df = pd.DataFrame({\n",
    "        'ID': np.arange(len(predictions)),\n",
    "        'Predicted': predictions\n",
    "    })\n",
    "    predictions_df.to_csv(\"predictions.csv\", index=False)\n",
    "\n",
    "    # Return the average F1 score\n",
    "    return f1_score(y, predictions, average=\"macro\")\n"
   ]
  },
  {
   "cell_type": "code",
   "execution_count": 46,
   "id": "68589a42-622d-4b21-bda1-83ee87ab9189",
   "metadata": {},
   "outputs": [
    {
     "data": {
      "text/plain": [
       "0.988599887324974"
      ]
     },
     "execution_count": 46,
     "metadata": {},
     "output_type": "execute_result"
    }
   ],
   "source": [
    "five_fold_cross_validation(CustomStackingClassifier, combined_features, labels)"
   ]
  }
 ],
 "metadata": {
  "kernelspec": {
   "display_name": "Python 3 (ipykernel)",
   "language": "python",
   "name": "python3"
  },
  "language_info": {
   "codemirror_mode": {
    "name": "ipython",
    "version": 3
   },
   "file_extension": ".py",
   "mimetype": "text/x-python",
   "name": "python",
   "nbconvert_exporter": "python",
   "pygments_lexer": "ipython3",
   "version": "3.9.12"
  }
 },
 "nbformat": 4,
 "nbformat_minor": 5
}
